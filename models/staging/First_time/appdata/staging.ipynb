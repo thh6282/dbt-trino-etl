{
 "cells": [
  {
   "cell_type": "code",
   "execution_count": 4,
   "metadata": {},
   "outputs": [],
   "source": [
    "import os"
   ]
  },
  {
   "cell_type": "code",
   "execution_count": 5,
   "metadata": {},
   "outputs": [],
   "source": [
    "path = 'C:/Users/Huy Hoang/Desktop/dbt_workspace/train/models/staging/First_time/appdata/'\n",
    "if not os.path.exists(path):\n",
    "    os.makedirs(path)"
   ]
  },
  {
   "cell_type": "code",
   "execution_count": 6,
   "metadata": {},
   "outputs": [],
   "source": [
    "list_file = [\n",
    "'stg_appdata__shmaragency',\n",
    "'stg_appdata__shshopkey',\n",
    "'stg_appdata__appusers',\n",
    "'stg_appdata__dms_ordermaster',\n",
    "'stg_appdata__dms_orderdetail',\n",
    "'stg_appdata__dmssellout',\n",
    "'stg_appdata__shmartradesaleoffresult',\n",
    "'stg_appdata__shmartradesaleoffresultdetail',\n",
    "'stg_appdata__smpromoprogramdetail',\n",
    "'stg_appdata__promodetail',\n",
    "'stg_appdata__smpromoprogram',\n",
    "'stg_appdata__smpromoprogramdetailresult',\n",
    "'stg_appdata__promo',\n",
    "'stg_appdata__promodetailresult',\n",
    "'stg_appdata__wh_rack_balancehistory',\n",
    "'stg_appdata__mplvehicles',\n",
    "'stg_appdata__magaz',\n",
    "'stg_appdata__mpldeliveryfeecalculatorbyitem',\n",
    "'stg_appdata__shmarcampaign',\n",
    "'stg_appdata__shmaragencycampaign'\n",
    "]"
   ]
  },
  {
   "cell_type": "code",
   "execution_count": 7,
   "metadata": {},
   "outputs": [],
   "source": [
    "table_name =[\n",
    "'shmaragency',\n",
    "'shshopkey',\n",
    "'appusers',\n",
    "'dms_ordermaster',\n",
    "'dms_orderdetail',\n",
    "'dmssellout',\n",
    "'shmartradesaleoffresult',\n",
    "'shmartradesaleoffresultdetail',\n",
    "'smpromoprogramdetail',\n",
    "'promodetail',\n",
    "'smpromoprogram',\n",
    "'smpromoprogramdetailresult',\n",
    "'promo',\n",
    "'promodetailresult',\n",
    "'wh_rack_balancehistory',\n",
    "'mplvehicles',\n",
    "'magaz',\n",
    "'mpldeliveryfeecalculatorbyitem',\n",
    "'shmarcampaign',\n",
    "'shmaragencycampaign'\n",
    "]"
   ]
  },
  {
   "cell_type": "code",
   "execution_count": 8,
   "metadata": {},
   "outputs": [],
   "source": [
    "# với mỗi name table trong table_name tạo nội dung của file thay vào vị trí mpldeliveryfee\n",
    "for i in range(len(table_name)):\n",
    "    content = [\n",
    "    \"\"\"\n",
    "{{ config(\n",
    "    materialized='incremental',\n",
    "    schema = 'staging',\n",
    "    views_enabled=False,\n",
    ") }}        \n",
    "\n",
    "{% if execute %}\n",
    "    {% set dynamic_query = transform_data_types_iceberg(\"appdata\", \"dbo\", \"table_name\") %}\n",
    "{% endif %}\n",
    "select  \n",
    "    {{ dynamic_query }},\n",
    "    '{{ var(\"source_name\") }}' AS source_name,\n",
    "    '{{ var(\"load_date\") }}' AS load_date,\n",
    "    CAST(CURRENT_TIMESTAMP AS timestamp(6)) AS ppn_tm\n",
    "from appdata.dbo.table_name\"\"\"\n",
    "]\n",
    "    content = content[0].replace('table_name', table_name[i])\n",
    "    with open(path + list_file[i] + '.sql', 'w') as f:\n",
    "        f.write(content)\n",
    "    f.close()\n",
    "    "
   ]
  }
 ],
 "metadata": {
  "kernelspec": {
   "display_name": "Python 3",
   "language": "python",
   "name": "python3"
  },
  "language_info": {
   "codemirror_mode": {
    "name": "ipython",
    "version": 3
   },
   "file_extension": ".py",
   "mimetype": "text/x-python",
   "name": "python",
   "nbconvert_exporter": "python",
   "pygments_lexer": "ipython3",
   "version": "3.12.3"
  }
 },
 "nbformat": 4,
 "nbformat_minor": 2
}
