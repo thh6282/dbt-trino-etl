{
 "cells": [
  {
   "cell_type": "code",
   "execution_count": 16,
   "metadata": {},
   "outputs": [],
   "source": [
    "import os"
   ]
  },
  {
   "cell_type": "code",
   "execution_count": 17,
   "metadata": {},
   "outputs": [],
   "source": [
    "path = 'C:/Users/Huy Hoang/Desktop/dbt_workspace/train/models/staging/First_time/exact101/'\n",
    "if not os.path.exists(path):\n",
    "    os.makedirs(path)"
   ]
  },
  {
   "cell_type": "code",
   "execution_count": 18,
   "metadata": {},
   "outputs": [],
   "source": [
    "list_file = [\n",
    "'stg_exact101__cicmpy',\n",
    "'stg_exact101__cicntp',\n",
    "'stg_exact101__divisioncreditors',\n",
    "'stg_exact101__divisiondebtors',\n",
    "'stg_exact101__humres',\n",
    "'stg_exact101__hrjbtl',\n",
    "'stg_exact101__hrloc',\n",
    "'stg_exact101__pwrole',\n",
    "'stg_exact101__kstpl',\n",
    "'stg_exact101__kstdr',\n",
    "'stg_exact101__fatran',\n",
    "'stg_exact101__grtbk',\n",
    "'stg_exact101__gbkmut',\n",
    "'stg_exact101__dagbk',\n",
    "'stg_exact101__ksprek',\n",
    "'stg_exact101__ksdrek',\n",
    "'stg_exact101__gbkmut',\n",
    "'stg_exact101__items',\n",
    "'stg_exact101__itemassortment',\n",
    "'stg_exact101__itemnumbers',\n",
    "'stg_exact101__staffl',\n",
    "'stg_exact101__itemclasses',\n",
    "'stg_exact101__stfoms',\n",
    "'stg_exact101__recipe',\n",
    "'stg_exact101__orhkrg',\n",
    "'stg_exact101__orhsrg',\n",
    "'stg_exact101__frkrg',\n",
    "'stg_exact101__frsrg',\n",
    "'stg_exact101__orkrg',\n",
    "'stg_exact101__orsrg',\n",
    "'stg_exact101__evloc'\n",
    "]"
   ]
  },
  {
   "cell_type": "code",
   "execution_count": 19,
   "metadata": {},
   "outputs": [],
   "source": [
    "table_name =[\n",
    "'cicmpy',\n",
    "'cicntp',\n",
    "'divisioncreditors',\n",
    "'divisiondebtors',\n",
    "'humres',\n",
    "'hrjbtl',\n",
    "'hrloc',\n",
    "'pwrole',\n",
    "'kstpl',\n",
    "'kstdr',\n",
    "'fatran',\n",
    "'grtbk',\n",
    "'gbkmut',\n",
    "'dagbk',\n",
    "'ksprek',\n",
    "'ksdrek',\n",
    "'gbkmut',\n",
    "'items',\n",
    "'itemassortment',\n",
    "'itemnumbers',\n",
    "'staffl',\n",
    "'itemclasses',\n",
    "'stfoms',\n",
    "'recipe',\n",
    "'orhkrg',\n",
    "'orhsrg',\n",
    "'frkrg',\n",
    "'frsrg',\n",
    "'orkrg',\n",
    "'orsrg',\n",
    "'evloc'\n",
    "]"
   ]
  },
  {
   "cell_type": "code",
   "execution_count": 20,
   "metadata": {},
   "outputs": [],
   "source": [
    "# với mỗi name table trong table_name tạo nội dung của file thay vào vị trí mpldeliveryfee\n",
    "for i in range(len(table_name)):\n",
    "    content = [\n",
    "    \"\"\"\n",
    "{{ config(\n",
    "    materialized='incremental',\n",
    "    schema = 'staging',\n",
    "    views_enabled=False,\n",
    ") }}        \n",
    "\n",
    "{% if execute %}\n",
    "    {% set dynamic_query = transform_data_types_iceberg(\"mssql\", \"dbo\", \"table_name\") %}\n",
    "{% endif %}\n",
    "select  \n",
    "    {{ dynamic_query }},\n",
    "    '{{ var(\"source_name\") }}' AS source_name,\n",
    "    '{{ var(\"load_date\") }}' AS load_date,\n",
    "    CAST(CURRENT_TIMESTAMP AS timestamp(6)) AS ppn_tm\n",
    "from mssql.dbo.table_name\"\"\"\n",
    "]\n",
    "    content = content[0].replace('table_name', table_name[i])\n",
    "    with open(path + list_file[i] + '.sql', 'w') as f:\n",
    "        f.write(content)\n",
    "    f.close()\n",
    "    "
   ]
  }
 ],
 "metadata": {
  "kernelspec": {
   "display_name": "Python 3",
   "language": "python",
   "name": "python3"
  },
  "language_info": {
   "codemirror_mode": {
    "name": "ipython",
    "version": 3
   },
   "file_extension": ".py",
   "mimetype": "text/x-python",
   "name": "python",
   "nbconvert_exporter": "python",
   "pygments_lexer": "ipython3",
   "version": "3.12.3"
  }
 },
 "nbformat": 4,
 "nbformat_minor": 2
}
